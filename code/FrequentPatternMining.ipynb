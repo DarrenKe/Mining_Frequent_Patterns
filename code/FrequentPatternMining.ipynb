{
 "cells": [
  {
   "cell_type": "code",
   "execution_count": 2,
   "metadata": {
    "collapsed": true
   },
   "outputs": [],
   "source": [
    "import collections"
   ]
  },
  {
   "cell_type": "code",
   "execution_count": 3,
   "metadata": {
    "collapsed": false
   },
   "outputs": [
    {
     "name": "stdout",
     "output_type": "stream",
     "text": [
      "2\n",
      "[['B', 'A', 'C', 'E', 'D'], ['A', 'C'], ['C', 'B', 'D']]\n"
     ]
    }
   ],
   "source": [
    "data = []\n",
    "min_support = 0\n",
    "with open('data.txt') as fp:\n",
    "    first_line = fp.readline()\n",
    "    min_support = int(first_line)\n",
    "    print(min_support)\n",
    "    for line in fp:\n",
    "        line_data = line.rstrip().split(' ')\n",
    "        data.append(line_data)\n",
    "    print(data)\n",
    "        "
   ]
  },
  {
   "cell_type": "code",
   "execution_count": 4,
   "metadata": {
    "collapsed": false
   },
   "outputs": [
    {
     "name": "stdout",
     "output_type": "stream",
     "text": [
      "[{'B'}, {'C'}, {'D'}, {'A'}]\n"
     ]
    }
   ],
   "source": [
    "# Initially, scan DB once to get frequent 1-itemset\n",
    "data_ = []\n",
    "output = {}\n",
    "\n",
    "for line in data:\n",
    "    data_ = data_ + line\n",
    "counter=collections.Counter(data_)\n",
    "\n",
    "candidates_1 = []\n",
    "# frequency =  dict(counter )\n",
    "for key in counter.keys():\n",
    "    if counter[key]>=int(min_support) :\n",
    "        candidates_1.append(set([key]))\n",
    "        output[key] = counter[key]\n",
    "print(candidates_1)\n",
    "\n",
    "\n",
    "# output.append(sorted(dict(counter).items(), key=lambda x:x[1],reverse=True))"
   ]
  },
  {
   "cell_type": "code",
   "execution_count": 5,
   "metadata": {
    "collapsed": false
   },
   "outputs": [
    {
     "data": {
      "text/plain": [
       "Counter({'A': 2, 'B': 2, 'C': 3, 'D': 2, 'E': 1})"
      ]
     },
     "execution_count": 5,
     "metadata": {},
     "output_type": "execute_result"
    }
   ],
   "source": [
    "counter"
   ]
  },
  {
   "cell_type": "code",
   "execution_count": 6,
   "metadata": {
    "collapsed": false
   },
   "outputs": [
    {
     "data": {
      "text/plain": [
       "{'A': 2, 'B': 2, 'C': 3, 'D': 2}"
      ]
     },
     "execution_count": 6,
     "metadata": {},
     "output_type": "execute_result"
    }
   ],
   "source": [
    "output"
   ]
  },
  {
   "cell_type": "code",
   "execution_count": 7,
   "metadata": {
    "collapsed": false
   },
   "outputs": [],
   "source": [
    "## if candidate patten exists in the data set with the minimum surport\n",
    "def patten_exist(candidate):\n",
    "    n = 0\n",
    "    for item in data:\n",
    "        if candidate.issubset(set(item)):\n",
    "            n+=1\n",
    "    if n>=min_support:\n",
    "        return (True, n)\n",
    "    else:\n",
    "        return (False,n)"
   ]
  },
  {
   "cell_type": "code",
   "execution_count": 8,
   "metadata": {
    "collapsed": false
   },
   "outputs": [],
   "source": [
    "## generate candidates\n",
    "def generate_candidates(output,candidates,k=1):\n",
    "    lenght =  len(candidates)\n",
    "    new_candidates = []\n",
    "    new_candidates_freq = {}\n",
    "    for i in range(lenght-1):\n",
    "        for j in range(i+1,lenght):\n",
    "            a = candidates[i]\n",
    "            b = candidates[j]      \n",
    "            if len((a&b))==(k-1):# these two items can generate 1 element larger itemset\n",
    "                candidate_ = a|b\n",
    "                if candidate_ not in new_candidates:\n",
    "                    exist, num = patten_exist(candidate_)\n",
    "                    if exist == True:# candidate meets the mini support\n",
    "                        new_candidates.append(candidate_)\n",
    "                        # record the frequency of this new candidate\n",
    "                        key = \" \".join(str(x) for x in sorted(candidate_))\n",
    "                        new_candidates_freq[key] = num\n",
    "                    \n",
    "    output.update(new_candidates_freq)\n",
    "    return (output,new_candidates,k+1)\n",
    "                        \n",
    "# Repeat\n",
    "# Generate length-(k+1) candidate itemsets from length-k frequent itemsets\n",
    "\n",
    "# Test the candidates against DB to find frequent (k+1)-itemsets\n",
    "# Set k := k +1\n",
    "# Until no frequent or candidate set can be generated\n",
    "# Return all the frequent itemsets derived\n",
    "# for line in data:\n",
    "#     print(line)"
   ]
  },
  {
   "cell_type": "code",
   "execution_count": 9,
   "metadata": {
    "collapsed": false
   },
   "outputs": [],
   "source": [
    "output,new_candidates,k = generate_candidates(output,candidates_1,k=1)"
   ]
  },
  {
   "cell_type": "code",
   "execution_count": 10,
   "metadata": {
    "collapsed": false
   },
   "outputs": [
    {
     "data": {
      "text/plain": [
       "{'A': 2, 'A C': 2, 'B': 2, 'B C': 2, 'B D': 2, 'C': 3, 'C D': 2, 'D': 2}"
      ]
     },
     "execution_count": 10,
     "metadata": {},
     "output_type": "execute_result"
    }
   ],
   "source": [
    "output"
   ]
  },
  {
   "cell_type": "code",
   "execution_count": 11,
   "metadata": {
    "collapsed": false
   },
   "outputs": [
    {
     "name": "stdout",
     "output_type": "stream",
     "text": [
      "[{'B', 'C'}, {'B', 'D'}, {'C', 'D'}, {'A', 'C'}]\n",
      "[{'B', 'C', 'D'}]\n",
      "[]\n"
     ]
    }
   ],
   "source": [
    "# Repeat\n",
    "# Generate length-(k+1) candidate itemsets from length-k frequent itemsets\n",
    "# Until no frequent or candidate set can be generated\n",
    "\n",
    "#initial parameters\n",
    "candidates = candidates_1\n",
    "item_size = 1\n",
    "final_output ={}\n",
    "# Repeat\n",
    "while(True):\n",
    "    # Generate length-(k+1) candidate itemsets from length-k frequent itemsets\n",
    "    new_output,new_candidates,new_item_size = generate_candidates(output,candidates,item_size)\n",
    "    output = new_output \n",
    "    candidates = new_candidates\n",
    "    print(new_candidates)\n",
    "    item_size = new_item_size\n",
    "    if(new_candidates==[]):# Until no frequent or candidate set can be generated\n",
    "        final_output = output\n",
    "        break;\n",
    "# print(final_output)\n",
    "# sorted(final_output.items(), key=lambda x:x[1],reverse=True)  \n",
    "    \n",
    "    "
   ]
  },
  {
   "cell_type": "code",
   "execution_count": 12,
   "metadata": {
    "collapsed": false
   },
   "outputs": [],
   "source": [
    "final_output = (sorted(final_output.items(), key=lambda x: (-x[1],x[0])))\n",
    "\n",
    "# for item in final_output:\n",
    "#     print(item[1],\"[\",item[0],\"]\")\n",
    "\n",
    "    "
   ]
  },
  {
   "cell_type": "code",
   "execution_count": 13,
   "metadata": {
    "collapsed": false
   },
   "outputs": [
    {
     "data": {
      "text/plain": [
       "[('C', 3),\n",
       " ('A', 2),\n",
       " ('A C', 2),\n",
       " ('B', 2),\n",
       " ('B C', 2),\n",
       " ('B C D', 2),\n",
       " ('B D', 2),\n",
       " ('C D', 2),\n",
       " ('D', 2)]"
      ]
     },
     "execution_count": 13,
     "metadata": {},
     "output_type": "execute_result"
    }
   ],
   "source": [
    "final_output"
   ]
  },
  {
   "cell_type": "code",
   "execution_count": 14,
   "metadata": {
    "collapsed": false
   },
   "outputs": [],
   "source": [
    "keys = []\n",
    "format_keys = []\n",
    "values = []\n",
    "for item in final_output:\n",
    "    values.append(item[1])\n",
    "    keys.append(set(item[0].split(\" \")))\n",
    "    format_keys.append(item[0])\n",
    "\n",
    "        "
   ]
  },
  {
   "cell_type": "code",
   "execution_count": 15,
   "metadata": {
    "collapsed": false
   },
   "outputs": [
    {
     "data": {
      "text/plain": [
       "[{'C'},\n",
       " {'A'},\n",
       " {'A', 'C'},\n",
       " {'B'},\n",
       " {'B', 'C'},\n",
       " {'B', 'C', 'D'},\n",
       " {'B', 'D'},\n",
       " {'C', 'D'},\n",
       " {'D'}]"
      ]
     },
     "execution_count": 15,
     "metadata": {},
     "output_type": "execute_result"
    }
   ],
   "source": [
    "keys"
   ]
  },
  {
   "cell_type": "code",
   "execution_count": 16,
   "metadata": {
    "collapsed": false
   },
   "outputs": [
    {
     "data": {
      "text/plain": [
       "[3, 2, 2, 2, 2, 2, 2, 2, 2]"
      ]
     },
     "execution_count": 16,
     "metadata": {},
     "output_type": "execute_result"
    }
   ],
   "source": [
    "values"
   ]
  },
  {
   "cell_type": "code",
   "execution_count": 17,
   "metadata": {
    "collapsed": false
   },
   "outputs": [],
   "source": [
    "not_closed = []\n",
    "not_maximum = []\n",
    "#find index that is not closed frequent pattern\n",
    "for i in range(len(keys)):\n",
    "    for j in range(len(keys)):\n",
    "        if i!=j and values[i]==values[j] and keys[i].issubset(keys[j]):\n",
    "            not_closed.append(i)\n",
    "            break\n",
    "#find index that is not maximum frequent pattern\n",
    "for i in range(len(keys)):\n",
    "    for j in range(len(keys)):                \n",
    "        if keys[i].issubset(keys[j]) and i!=j:\n",
    "            not_maximum.append(i) \n",
    "            break\n",
    "            \n",
    "\n",
    "        \n",
    "        "
   ]
  },
  {
   "cell_type": "code",
   "execution_count": 20,
   "metadata": {
    "collapsed": false
   },
   "outputs": [
    {
     "name": "stdout",
     "output_type": "stream",
     "text": [
      "3 [C]\n",
      "2 [A]\n",
      "2 [A C]\n",
      "2 [B]\n",
      "2 [B C]\n",
      "2 [B C D]\n",
      "2 [B D]\n",
      "2 [C D]\n",
      "2 [D]\n",
      "---------------\n",
      "3 [C]\n",
      "2 [A C]\n",
      "2 [B C D]\n",
      "---------------\n",
      "2 [A C]\n",
      "2 [B C D]\n"
     ]
    }
   ],
   "source": [
    "#print the final output\n",
    "for item in final_output:\n",
    "     print(item[1],\"[\"+item[0]+\"]\")\n",
    "print(\"---------------\")        \n",
    "for i in range(len(keys)):\n",
    "    if i not in not_closed:\n",
    "        print(values[i],\"[\"+format_keys[i]+\"]\")\n",
    "print(\"---------------\")\n",
    "for i in range(len(keys)):\n",
    "    if i not in not_maximum:\n",
    "        print(values[i],\"[\"+format_keys[i]+\"]\")"
   ]
  },
  {
   "cell_type": "code",
   "execution_count": null,
   "metadata": {
    "collapsed": true
   },
   "outputs": [],
   "source": []
  },
  {
   "cell_type": "code",
   "execution_count": null,
   "metadata": {
    "collapsed": true
   },
   "outputs": [],
   "source": []
  },
  {
   "cell_type": "code",
   "execution_count": null,
   "metadata": {
    "collapsed": true
   },
   "outputs": [],
   "source": []
  }
 ],
 "metadata": {
  "anaconda-cloud": {},
  "kernelspec": {
   "display_name": "Python [conda root]",
   "language": "python",
   "name": "conda-root-py"
  },
  "language_info": {
   "codemirror_mode": {
    "name": "ipython",
    "version": 3
   },
   "file_extension": ".py",
   "mimetype": "text/x-python",
   "name": "python",
   "nbconvert_exporter": "python",
   "pygments_lexer": "ipython3",
   "version": "3.5.2"
  }
 },
 "nbformat": 4,
 "nbformat_minor": 2
}
